{
 "cells": [
  {
   "cell_type": "code",
   "execution_count": null,
   "metadata": {},
   "outputs": [],
   "source": [
    "# Description: This Jupyter Notebook is a playground for data analysis, as described in Readme.md file on Git Hub repository.\n",
    "# Context: Programming and Scripting, GMIT, 2019\n",
    "# Author: Andrzej Kocielski\n",
    "# Email: G00376291@gmit.ie\n",
    "# Date of creation: 03-04-2019\n",
    "# Last update: 03-04-2019\n",
    "\n",
    "###"
   ]
  }
 ],
 "metadata": {
  "kernelspec": {
   "display_name": "Python 3",
   "language": "python",
   "name": "python3"
  },
  "language_info": {
   "codemirror_mode": {
    "name": "ipython",
    "version": 3
   },
   "file_extension": ".py",
   "mimetype": "text/x-python",
   "name": "python",
   "nbconvert_exporter": "python",
   "pygments_lexer": "ipython3",
   "version": "3.7.1"
  }
 },
 "nbformat": 4,
 "nbformat_minor": 2
}
