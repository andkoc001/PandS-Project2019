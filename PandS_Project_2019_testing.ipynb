{
 "cells": [
  {
   "cell_type": "markdown",
   "metadata": {},
   "source": [
    "# Iris Dataset Project - testing\n",
    "Description: This Jupyter Notebook is a playground for testing.   \n",
    "Context: Programming and Scripting, GMIT, 2019\n",
    "\n",
    "> Author: Andrzej Kocielski  \n",
    "> Email: G00376291@gmit.ie\n",
    "\n",
    "Date of creation: 03-04-2019  \n",
    "Last update: 23-04-2019"
   ]
  },
  {
   "cell_type": "markdown",
   "metadata": {},
   "source": [
    "## Importing modules"
   ]
  },
  {
   "cell_type": "code",
   "execution_count": 1,
   "metadata": {},
   "outputs": [],
   "source": [
    "#Importing modules\n",
    "import numpy as np\n",
    "import pandas as pd\n",
    "import matplotlib.pyplot as pl"
   ]
  },
  {
   "cell_type": "markdown",
   "metadata": {},
   "source": [
    "## Reading data from a csv file"
   ]
  },
  {
   "cell_type": "code",
   "execution_count": 2,
   "metadata": {},
   "outputs": [],
   "source": [
    "# Including also the first row (removing headers)\n",
    "ids = pd.read_csv(\"iris_dataset.csv\", header=None) # attribute header=None assumes that all rows are actual data, no headers"
   ]
  },
  {
   "cell_type": "markdown",
   "metadata": {},
   "source": [
    "## Basic dataset info"
   ]
  },
  {
   "cell_type": "markdown",
   "metadata": {},
   "source": [
    "Shape of the data set, i.e. number of rows and columns"
   ]
  },
  {
   "cell_type": "code",
   "execution_count": 23,
   "metadata": {},
   "outputs": [],
   "source": [
    "# ids.shape"
   ]
  },
  {
   "cell_type": "markdown",
   "metadata": {},
   "source": [
    "Basic statistcal information about the dataset"
   ]
  },
  {
   "cell_type": "code",
   "execution_count": 18,
   "metadata": {},
   "outputs": [],
   "source": [
    "# ids.describe()"
   ]
  },
  {
   "cell_type": "markdown",
   "metadata": {},
   "source": [
    "### Separation of data attributes (i.e. columns, aka features)"
   ]
  },
  {
   "cell_type": "markdown",
   "metadata": {},
   "source": [
    "#### Change of the data structure - from dataframe to array\n",
    "\n",
    "Variable `ids` is a dataframe type of data. It cannot be sliced. One way of dealing with the problem is to change the type to array."
   ]
  },
  {
   "cell_type": "code",
   "execution_count": 33,
   "metadata": {},
   "outputs": [],
   "source": [
    "# Separation of data attributes (columns, aka features); source - lecture video week 9\n",
    "\n",
    "# Note: ids is a DataFrame type of data structure, which cannot be sliced! Source: https://stackoverflow.com/a/37043071\n",
    "type(ids)\n",
    "\n",
    "# converting DataFrame into an array (as per Numpy)\n",
    "idsv = ids.values\n",
    "type(idsv)\n",
    "\n",
    "# Slicing - first column extraction\n",
    "firstcol = idsv[:, 0]\n",
    "# firstcol"
   ]
  },
  {
   "cell_type": "markdown",
   "metadata": {},
   "source": [
    "#### Slicing the data set into smaller chunks of data"
   ]
  },
  {
   "cell_type": "markdown",
   "metadata": {},
   "source": [
    "Analysis of a subset - sepal length of Iris Setosa, named as `sepal_l_setosa`"
   ]
  },
  {
   "cell_type": "code",
   "execution_count": 24,
   "metadata": {},
   "outputs": [],
   "source": [
    "# Slicing - first attributer of first 50 instances - sepal length of Iris Setosa\n",
    "sepal_l_setosa = idsv[0:49,0]\n",
    "sels_min = np.min(sepal_l_setosa) # minimum value of the subset, see next cell for results\n",
    "sels_mean = np.mean(sepal_l_setosa) # mean value of the subset\n",
    "sels_max = np.max(sepal_l_setosa) # maximum value of the subset"
   ]
  },
  {
   "cell_type": "code",
   "execution_count": 25,
   "metadata": {},
   "outputs": [
    {
     "data": {
      "text/plain": [
       "(4.3, 5.006122448979592, 5.8)"
      ]
     },
     "execution_count": 25,
     "metadata": {},
     "output_type": "execute_result"
    }
   ],
   "source": [
    "# Results of sepal length of Iris Setosa\n",
    "sels_min, sels_mean, sels_max"
   ]
  },
  {
   "cell_type": "markdown",
   "metadata": {},
   "source": [
    "### Data set separation by classes (iris species)"
   ]
  },
  {
   "cell_type": "markdown",
   "metadata": {},
   "source": [
    "#### 1. Subset of sepal length of Iris Setosa and subsets histogram"
   ]
  },
  {
   "cell_type": "markdown",
   "metadata": {},
   "source": [
    "Analysis of the subset, named as **`SL_setosa`**."
   ]
  },
  {
   "cell_type": "code",
   "execution_count": 18,
   "metadata": {},
   "outputs": [],
   "source": [
    "# Slicing - first attributes of first 50 instances - sepal length of Iris Setosa\n",
    "SL_setosa = idsv[0:50,0]"
   ]
  },
  {
   "cell_type": "code",
   "execution_count": 78,
   "metadata": {},
   "outputs": [],
   "source": [
    "# SL_setosa # This shows content of the subset"
   ]
  },
  {
   "cell_type": "markdown",
   "metadata": {},
   "source": [
    "Finding out what are the minimum, mean and maximum values of the subset."
   ]
  },
  {
   "cell_type": "code",
   "execution_count": 117,
   "metadata": {},
   "outputs": [
    {
     "data": {
      "text/plain": [
       "(4.3, 5.005999999999999, 5.8)"
      ]
     },
     "execution_count": 117,
     "metadata": {},
     "output_type": "execute_result"
    }
   ],
   "source": [
    "SL_setosa_min = np.min(SL_setosa) # minimum value of the subset, see next cell for results\n",
    "SL_setosa_mean = np.mean(SL_setosa) # mean value of the subset\n",
    "SL_setosa_max = np.max(SL_setosa) # maximum value of the subset\n",
    "\n",
    "# Results of sepal length of Iris Setosa\n",
    "SL_setosa_min, SL_setosa_mean, SL_setosa_max"
   ]
  },
  {
   "cell_type": "markdown",
   "metadata": {},
   "source": [
    "Histgram of **`SL_setosa`** (length of sepals of Iris Setosa)"
   ]
  },
  {
   "cell_type": "code",
   "execution_count": 113,
   "metadata": {
    "scrolled": false
   },
   "outputs": [],
   "source": [
    "# histogram\n",
    "bins = [4.0, 4.25, 4.5, 4.75, 5.0, 5.25, 5.5, 5.75, 6.0, 6.25, 6.5, 6.75, 7.0, 7.25, 7.5, 7.75, 8.0]\n",
    "# pl.hist(SL_setosa, bins, rwidth=0.8, histtype='barstacked')\n",
    "# pl.show"
   ]
  },
  {
   "cell_type": "markdown",
   "metadata": {},
   "source": [
    "#### 2. Subset of sepal length of Iris Versicolor"
   ]
  },
  {
   "cell_type": "markdown",
   "metadata": {},
   "source": [
    "Analysis of the subset, named as **`SL_versi`**."
   ]
  },
  {
   "cell_type": "code",
   "execution_count": 21,
   "metadata": {},
   "outputs": [],
   "source": [
    "# Slicing - first attributes of first 50 instances - sepal length of Iris Versicolor\n",
    "SL_versi = idsv[50:100,0]"
   ]
  },
  {
   "cell_type": "code",
   "execution_count": 80,
   "metadata": {},
   "outputs": [],
   "source": [
    "# SL_versi # This shows content of the subset"
   ]
  },
  {
   "cell_type": "markdown",
   "metadata": {},
   "source": [
    "Finding out what are the minimum, mean and maximum values of the subset."
   ]
  },
  {
   "cell_type": "code",
   "execution_count": 23,
   "metadata": {},
   "outputs": [
    {
     "data": {
      "text/plain": [
       "(4.9, 5.936, 7.0)"
      ]
     },
     "execution_count": 23,
     "metadata": {},
     "output_type": "execute_result"
    }
   ],
   "source": [
    "SL_versi_min = np.min(SL_versi) # minimum value of the subset, see next cell for results\n",
    "SL_versi_mean = np.mean(SL_versi) # mean value of the subset\n",
    "SL_versi_max = np.max(SL_versi) # maximum value of the subset\n",
    "\n",
    "# Results of sepal length of Iris Setosa\n",
    "SL_versi_min, SL_versi_mean, SL_versi_max"
   ]
  },
  {
   "cell_type": "markdown",
   "metadata": {},
   "source": [
    "Histgram of **`SL_versi`** (length of sepals of Iris Versicolor)"
   ]
  },
  {
   "cell_type": "code",
   "execution_count": 114,
   "metadata": {},
   "outputs": [],
   "source": [
    "# histogram\n",
    "bins = [4.0, 4.25, 4.5, 4.75, 5.0, 5.25, 5.5, 5.75, 6.0, 6.25, 6.5, 6.75, 7.0, 7.25, 7.5, 7.75, 8.0]\n",
    "# pl.hist(SL_versi, bins, rwidth=0.8, histtype='barstacked')\n",
    "# pl.show"
   ]
  },
  {
   "cell_type": "markdown",
   "metadata": {},
   "source": [
    "#### 3. Subset of sepal length of Iris Virginica"
   ]
  },
  {
   "cell_type": "markdown",
   "metadata": {},
   "source": [
    "Analysis of the subset, named as **`SL_virgi`**."
   ]
  },
  {
   "cell_type": "code",
   "execution_count": 24,
   "metadata": {},
   "outputs": [],
   "source": [
    "# Slicing - first attributes of first 50 instances - sepal length of Iris Virginica\n",
    "SL_virgi = idsv[100:150,0]"
   ]
  },
  {
   "cell_type": "code",
   "execution_count": 81,
   "metadata": {},
   "outputs": [],
   "source": [
    "# SL_virgi # This shows content of the subset"
   ]
  },
  {
   "cell_type": "markdown",
   "metadata": {},
   "source": [
    "Finding out what are the minimum, mean and maximum values of the subset."
   ]
  },
  {
   "cell_type": "code",
   "execution_count": 94,
   "metadata": {},
   "outputs": [
    {
     "data": {
      "text/plain": [
       "(4.9, 6.587999999999998, 7.9)"
      ]
     },
     "execution_count": 94,
     "metadata": {},
     "output_type": "execute_result"
    }
   ],
   "source": [
    "SL_virgi_min = np.min(SL_virgi) # minimum value of the subset, see next cell for results\n",
    "SL_virgi_mean = np.mean(SL_virgi) # mean value of the subset\n",
    "SL_virgi_max = np.max(SL_virgi) # maximum value of the subset\n",
    "\n",
    "# Results of sepal length of Iris Setosa\n",
    "SL_virgi_min, SL_virgi_mean, SL_virgi_max"
   ]
  },
  {
   "cell_type": "markdown",
   "metadata": {},
   "source": [
    "Histgram of **`SL_virig`** (length of sepals of Iris Virginica)"
   ]
  },
  {
   "cell_type": "code",
   "execution_count": 115,
   "metadata": {
    "scrolled": true
   },
   "outputs": [],
   "source": [
    "# histogram\n",
    "bins = [4.0, 4.25, 4.5, 4.75, 5.0, 5.25, 5.5, 5.75, 6.0, 6.25, 6.5, 6.75, 7.0, 7.25, 7.5, 7.75, 8.0]\n",
    "# pl.hist(SL_virgi, bins, rwidth=0.8, histtype='barstacked')\n",
    "# pl.show"
   ]
  }
 ],
 "metadata": {
  "kernelspec": {
   "display_name": "Python 3",
   "language": "python",
   "name": "python3"
  },
  "language_info": {
   "codemirror_mode": {
    "name": "ipython",
    "version": 3
   },
   "file_extension": ".py",
   "mimetype": "text/x-python",
   "name": "python",
   "nbconvert_exporter": "python",
   "pygments_lexer": "ipython3",
   "version": "3.7.3"
  }
 },
 "nbformat": 4,
 "nbformat_minor": 2
}
